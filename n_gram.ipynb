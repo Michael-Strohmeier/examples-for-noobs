{
  "nbformat": 4,
  "nbformat_minor": 0,
  "metadata": {
    "colab": {
      "name": "n-gram.ipynb",
      "provenance": []
    },
    "kernelspec": {
      "name": "python3",
      "display_name": "Python 3"
    },
    "language_info": {
      "name": "python"
    }
  },
  "cells": [
    {
      "cell_type": "code",
      "metadata": {
        "colab": {
          "base_uri": "https://localhost:8080/",
          "height": 35
        },
        "id": "nDIyqepTsj-h",
        "outputId": "49db0b90-2379-4a40-a18f-4e98742c468d"
      },
      "source": [
        "\"\"\"\n",
        "dataset:\n",
        "\n",
        "https://www.kaggle.com/team-ai/spam-text-message-classification/version/1\n",
        "\"\"\""
      ],
      "execution_count": 1,
      "outputs": [
        {
          "output_type": "execute_result",
          "data": {
            "application/vnd.google.colaboratory.intrinsic+json": {
              "type": "string"
            },
            "text/plain": [
              "'\\ndataset:\\n\\nhttps://www.kaggle.com/team-ai/spam-text-message-classification/version/1\\n'"
            ]
          },
          "metadata": {},
          "execution_count": 1
        }
      ]
    },
    {
      "cell_type": "code",
      "metadata": {
        "colab": {
          "base_uri": "https://localhost:8080/"
        },
        "id": "QjoXgX7TtbYp",
        "outputId": "c81d6094-cf50-4bf6-a369-56b4f52e8684"
      },
      "source": [
        "import pandas as pd\n",
        "import re\n",
        "from nltk import ngrams, download\n",
        "from nltk.corpus import stopwords\n",
        "from collections import Counter\n",
        "\n",
        "download('stopwords')"
      ],
      "execution_count": 2,
      "outputs": [
        {
          "output_type": "stream",
          "name": "stdout",
          "text": [
            "[nltk_data] Downloading package stopwords to /root/nltk_data...\n",
            "[nltk_data]   Package stopwords is already up-to-date!\n"
          ]
        },
        {
          "output_type": "execute_result",
          "data": {
            "text/plain": [
              "True"
            ]
          },
          "metadata": {},
          "execution_count": 2
        }
      ]
    },
    {
      "cell_type": "code",
      "metadata": {
        "colab": {
          "base_uri": "https://localhost:8080/",
          "height": 143
        },
        "id": "VVRHu8C7AU-q",
        "outputId": "f69f96eb-7b06-4f73-9f39-e4960a06a66d"
      },
      "source": [
        "df = pd.read_csv(\"/content/SPAM text message 20170820 - Data.csv\")\n",
        "df.columns = [\"category\", \"sentence\"]\n",
        "\n",
        "df.head(3)"
      ],
      "execution_count": 3,
      "outputs": [
        {
          "output_type": "execute_result",
          "data": {
            "text/html": [
              "<div>\n",
              "<style scoped>\n",
              "    .dataframe tbody tr th:only-of-type {\n",
              "        vertical-align: middle;\n",
              "    }\n",
              "\n",
              "    .dataframe tbody tr th {\n",
              "        vertical-align: top;\n",
              "    }\n",
              "\n",
              "    .dataframe thead th {\n",
              "        text-align: right;\n",
              "    }\n",
              "</style>\n",
              "<table border=\"1\" class=\"dataframe\">\n",
              "  <thead>\n",
              "    <tr style=\"text-align: right;\">\n",
              "      <th></th>\n",
              "      <th>category</th>\n",
              "      <th>sentence</th>\n",
              "    </tr>\n",
              "  </thead>\n",
              "  <tbody>\n",
              "    <tr>\n",
              "      <th>0</th>\n",
              "      <td>ham</td>\n",
              "      <td>Go until jurong point, crazy.. Available only ...</td>\n",
              "    </tr>\n",
              "    <tr>\n",
              "      <th>1</th>\n",
              "      <td>ham</td>\n",
              "      <td>Ok lar... Joking wif u oni...</td>\n",
              "    </tr>\n",
              "    <tr>\n",
              "      <th>2</th>\n",
              "      <td>spam</td>\n",
              "      <td>Free entry in 2 a wkly comp to win FA Cup fina...</td>\n",
              "    </tr>\n",
              "  </tbody>\n",
              "</table>\n",
              "</div>"
            ],
            "text/plain": [
              "  category                                           sentence\n",
              "0      ham  Go until jurong point, crazy.. Available only ...\n",
              "1      ham                      Ok lar... Joking wif u oni...\n",
              "2     spam  Free entry in 2 a wkly comp to win FA Cup fina..."
            ]
          },
          "metadata": {},
          "execution_count": 3
        }
      ]
    },
    {
      "cell_type": "code",
      "metadata": {
        "colab": {
          "base_uri": "https://localhost:8080/",
          "height": 143
        },
        "id": "xzen4uppAWYG",
        "outputId": "d3d24f9d-b937-4ee3-df55-65e48a27e69a"
      },
      "source": [
        "df[\"clean_sentence\"] = [re.sub(r\"[^\\w\\s]\", \"\", s).lower() for s in df[\"sentence\"]]\n",
        "df.head(3)"
      ],
      "execution_count": 4,
      "outputs": [
        {
          "output_type": "execute_result",
          "data": {
            "text/html": [
              "<div>\n",
              "<style scoped>\n",
              "    .dataframe tbody tr th:only-of-type {\n",
              "        vertical-align: middle;\n",
              "    }\n",
              "\n",
              "    .dataframe tbody tr th {\n",
              "        vertical-align: top;\n",
              "    }\n",
              "\n",
              "    .dataframe thead th {\n",
              "        text-align: right;\n",
              "    }\n",
              "</style>\n",
              "<table border=\"1\" class=\"dataframe\">\n",
              "  <thead>\n",
              "    <tr style=\"text-align: right;\">\n",
              "      <th></th>\n",
              "      <th>category</th>\n",
              "      <th>sentence</th>\n",
              "      <th>clean_sentence</th>\n",
              "    </tr>\n",
              "  </thead>\n",
              "  <tbody>\n",
              "    <tr>\n",
              "      <th>0</th>\n",
              "      <td>ham</td>\n",
              "      <td>Go until jurong point, crazy.. Available only ...</td>\n",
              "      <td>go until jurong point crazy available only in ...</td>\n",
              "    </tr>\n",
              "    <tr>\n",
              "      <th>1</th>\n",
              "      <td>ham</td>\n",
              "      <td>Ok lar... Joking wif u oni...</td>\n",
              "      <td>ok lar joking wif u oni</td>\n",
              "    </tr>\n",
              "    <tr>\n",
              "      <th>2</th>\n",
              "      <td>spam</td>\n",
              "      <td>Free entry in 2 a wkly comp to win FA Cup fina...</td>\n",
              "      <td>free entry in 2 a wkly comp to win fa cup fina...</td>\n",
              "    </tr>\n",
              "  </tbody>\n",
              "</table>\n",
              "</div>"
            ],
            "text/plain": [
              "  category  ...                                     clean_sentence\n",
              "0      ham  ...  go until jurong point crazy available only in ...\n",
              "1      ham  ...                            ok lar joking wif u oni\n",
              "2     spam  ...  free entry in 2 a wkly comp to win fa cup fina...\n",
              "\n",
              "[3 rows x 3 columns]"
            ]
          },
          "metadata": {},
          "execution_count": 4
        }
      ]
    },
    {
      "cell_type": "code",
      "metadata": {
        "colab": {
          "base_uri": "https://localhost:8080/",
          "height": 178
        },
        "id": "g0A2rKOwyUk3",
        "outputId": "51430cbd-ae56-49c7-f4d5-65709e1165dc"
      },
      "source": [
        "stop_words = set(stopwords.words(\"english\"))\n",
        "\n",
        "temp_col = []\n",
        "for s in df[\"clean_sentence\"]:\n",
        "  temp = []\n",
        "  for word in s.split():\n",
        "    if word not in stop_words:\n",
        "      temp.append(word)\n",
        "\n",
        "  temp_col.append(temp)\n",
        "\n",
        "df[\"stop_words_removed\"] = temp_col\n",
        "\n",
        "# removing empty rows\n",
        "df = df[df[\"stop_words_removed\"].notna()]\n",
        "\n",
        "df.head(3)"
      ],
      "execution_count": 5,
      "outputs": [
        {
          "output_type": "execute_result",
          "data": {
            "text/html": [
              "<div>\n",
              "<style scoped>\n",
              "    .dataframe tbody tr th:only-of-type {\n",
              "        vertical-align: middle;\n",
              "    }\n",
              "\n",
              "    .dataframe tbody tr th {\n",
              "        vertical-align: top;\n",
              "    }\n",
              "\n",
              "    .dataframe thead th {\n",
              "        text-align: right;\n",
              "    }\n",
              "</style>\n",
              "<table border=\"1\" class=\"dataframe\">\n",
              "  <thead>\n",
              "    <tr style=\"text-align: right;\">\n",
              "      <th></th>\n",
              "      <th>category</th>\n",
              "      <th>sentence</th>\n",
              "      <th>clean_sentence</th>\n",
              "      <th>stop_words_removed</th>\n",
              "    </tr>\n",
              "  </thead>\n",
              "  <tbody>\n",
              "    <tr>\n",
              "      <th>0</th>\n",
              "      <td>ham</td>\n",
              "      <td>Go until jurong point, crazy.. Available only ...</td>\n",
              "      <td>go until jurong point crazy available only in ...</td>\n",
              "      <td>[go, jurong, point, crazy, available, bugis, n...</td>\n",
              "    </tr>\n",
              "    <tr>\n",
              "      <th>1</th>\n",
              "      <td>ham</td>\n",
              "      <td>Ok lar... Joking wif u oni...</td>\n",
              "      <td>ok lar joking wif u oni</td>\n",
              "      <td>[ok, lar, joking, wif, u, oni]</td>\n",
              "    </tr>\n",
              "    <tr>\n",
              "      <th>2</th>\n",
              "      <td>spam</td>\n",
              "      <td>Free entry in 2 a wkly comp to win FA Cup fina...</td>\n",
              "      <td>free entry in 2 a wkly comp to win fa cup fina...</td>\n",
              "      <td>[free, entry, 2, wkly, comp, win, fa, cup, fin...</td>\n",
              "    </tr>\n",
              "  </tbody>\n",
              "</table>\n",
              "</div>"
            ],
            "text/plain": [
              "  category  ...                                 stop_words_removed\n",
              "0      ham  ...  [go, jurong, point, crazy, available, bugis, n...\n",
              "1      ham  ...                     [ok, lar, joking, wif, u, oni]\n",
              "2     spam  ...  [free, entry, 2, wkly, comp, win, fa, cup, fin...\n",
              "\n",
              "[3 rows x 4 columns]"
            ]
          },
          "metadata": {},
          "execution_count": 5
        }
      ]
    },
    {
      "cell_type": "code",
      "metadata": {
        "id": "xGFdpxpQAkVo",
        "colab": {
          "base_uri": "https://localhost:8080/"
        },
        "outputId": "65da4c1e-c4a6-4dbb-a92e-8825c3a87e7a"
      },
      "source": [
        "# getting n grams from single line\n",
        "s = df[\"stop_words_removed\"].iloc[0]\n",
        "gram = ngrams(s, 5)\n",
        "\n",
        "list(gram)"
      ],
      "execution_count": 6,
      "outputs": [
        {
          "output_type": "execute_result",
          "data": {
            "text/plain": [
              "[('go', 'jurong', 'point', 'crazy', 'available'),\n",
              " ('jurong', 'point', 'crazy', 'available', 'bugis'),\n",
              " ('point', 'crazy', 'available', 'bugis', 'n'),\n",
              " ('crazy', 'available', 'bugis', 'n', 'great'),\n",
              " ('available', 'bugis', 'n', 'great', 'world'),\n",
              " ('bugis', 'n', 'great', 'world', 'la'),\n",
              " ('n', 'great', 'world', 'la', 'e'),\n",
              " ('great', 'world', 'la', 'e', 'buffet'),\n",
              " ('world', 'la', 'e', 'buffet', 'cine'),\n",
              " ('la', 'e', 'buffet', 'cine', 'got'),\n",
              " ('e', 'buffet', 'cine', 'got', 'amore'),\n",
              " ('buffet', 'cine', 'got', 'amore', 'wat')]"
            ]
          },
          "metadata": {},
          "execution_count": 6
        }
      ]
    },
    {
      "cell_type": "code",
      "metadata": {
        "colab": {
          "base_uri": "https://localhost:8080/"
        },
        "id": "L35RMwpG0ZGf",
        "outputId": "4afddba2-30be-40af-9122-a784f346d2b0"
      },
      "source": [
        "# getting all n grams (entire column)\n",
        "\n",
        "# n gram size\n",
        "n = 3\n",
        "\n",
        "temp = []\n",
        "for s in df[\"stop_words_removed\"]:\n",
        "  grams = []\n",
        "  if len(s) >= n:\n",
        "    grams = ngrams(s, n)\n",
        "\n",
        "  for gram in list(grams):\n",
        "    temp.append(gram)\n",
        "\n",
        "Counter(temp).most_common()[:10]"
      ],
      "execution_count": 7,
      "outputs": [
        {
          "output_type": "execute_result",
          "data": {
            "text/plain": [
              "[(('ill', 'call', 'later'), 42),\n",
              " (('sorry', 'ill', 'call'), 38),\n",
              " (('prize', 'guaranteed', 'call'), 21),\n",
              " (('u', 'wan', '2'), 21),\n",
              " (('happy', 'new', 'year'), 18),\n",
              " (('reply', 'call', '08000930705'), 14),\n",
              " (('land', 'line', 'claim'), 14),\n",
              " (('pls', 'send', 'message'), 13),\n",
              " (('private', '2003', 'account'), 13),\n",
              " (('2003', 'account', 'statement'), 13)]"
            ]
          },
          "metadata": {},
          "execution_count": 7
        }
      ]
    },
    {
      "cell_type": "code",
      "metadata": {
        "id": "9W7c4yQv1C9G"
      },
      "source": [
        ""
      ],
      "execution_count": 7,
      "outputs": []
    }
  ]
}