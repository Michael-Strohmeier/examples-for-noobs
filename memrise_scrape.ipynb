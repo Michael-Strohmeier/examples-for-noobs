{
  "nbformat": 4,
  "nbformat_minor": 0,
  "metadata": {
    "colab": {
      "name": "memrise_scrape.ipynb",
      "provenance": [],
      "collapsed_sections": []
    },
    "kernelspec": {
      "name": "python3",
      "display_name": "Python 3"
    },
    "language_info": {
      "name": "python"
    }
  },
  "cells": [
    {
      "cell_type": "code",
      "execution_count": 39,
      "metadata": {
        "id": "DM_1j5fjvONa"
      },
      "outputs": [],
      "source": [
        "import pandas as pd\n",
        "from bs4 import BeautifulSoup\n",
        "import urllib.parse\n",
        "import urllib.request\n",
        "import time\n",
        "\n",
        "headers = {'user-agent': 'Mozilla/5.0 (Windows NT 10.0; Win64; x64) AppleWebKit/537.36 (KHTML, like Gecko) Chrome/78.0.3904.108 Safari/537.36',\n",
        "           'cookie': 'visid_incap_1712983=Dfo+CVLdTCSzMHcIXEgPSb1y7l0AAAAAQUIPAAAAAAAetg/EHDkFJUigbIo4eaK4; incap_ses_532_1712983=dFrgDpkdqkYCF1u+mQxiB71y7l0AAAAAksMc42V5CJx6OdUZdeHflA==; has_js=1; _ga=GA1.2.626207180.1575908117; _gid=GA1.2.512657448.1575908117; __utma=158387685.626207180.1575908117.1575908117.1575908117.1; __utmc=158387685; __utmz=158387685.1575908117.1.1.utmcsr=(direct)^|utmccn=(direct)^|utmcmd=(none); __utmt=1; __utmt_b=1; _aeaid=5e12b9d6-0171-4fde-8ccf-1bba809a1bb2; aeatstartmessage=true; __utmb=158387685.4.10.1575908117',\n",
        "          }"
      ]
    },
    {
      "cell_type": "markdown",
      "source": [
        "get the hrefs for each level / \"lesson\""
      ],
      "metadata": {
        "id": "71cqbOUB0_pj"
      }
    },
    {
      "cell_type": "code",
      "source": [
        "url = \"https://app.memrise.com/course/251292/jlpt-n5-vocabulary-kanji/\"\n",
        "\n",
        "url_request = urllib.request.Request(url, data=None, headers=headers)\n",
        "url_response = urllib.request.urlopen(url_request)\n",
        "soup = BeautifulSoup(url_response, \"html.parser\", from_encoding=\"iso-8859-1\")"
      ],
      "metadata": {
        "id": "Ta0jxmH0vWsC"
      },
      "execution_count": 40,
      "outputs": []
    },
    {
      "cell_type": "code",
      "source": [
        "class_name = \"level clearfix\"\n",
        "levels = soup.find_all(\"a\", {\"class\": class_name}, href=True)"
      ],
      "metadata": {
        "id": "hzHlicezvoJ3"
      },
      "execution_count": 41,
      "outputs": []
    },
    {
      "cell_type": "code",
      "source": [
        "temp = []\n",
        "for a in levels:\n",
        "  href = a[\"href\"]\n",
        "  title = a.find(\"div\", {\"class\": \"level-title\"}).text.strip()\n",
        "  temp.append([href, title])\n",
        "\n",
        "print(temp[1][0])"
      ],
      "metadata": {
        "colab": {
          "base_uri": "https://localhost:8080/"
        },
        "id": "mbME5UfxvqIn",
        "outputId": "9e4f2ee1-f55d-4029-d197-1aa5b3f668bc"
      },
      "execution_count": 44,
      "outputs": [
        {
          "output_type": "stream",
          "name": "stdout",
          "text": [
            "/course/251292/jlpt-n5-vocabulary-kanji/2/\n"
          ]
        }
      ]
    },
    {
      "cell_type": "markdown",
      "source": [
        "scrape the individual pages"
      ],
      "metadata": {
        "id": "meybNhee0741"
      }
    },
    {
      "cell_type": "code",
      "source": [
        "data = []\n",
        "\n",
        "# did temp[1:] to ignore the intro... might need to fix his later\n",
        "for pair in temp[1:]:\n",
        "  url = \"https://app.memrise.com\" + pair[0]\n",
        "\n",
        "  url_request = urllib.request.Request(url, data=None, headers=headers)\n",
        "  url_response = urllib.request.urlopen(url_request)\n",
        "\n",
        "  # removed this: from_encoding=\"iso-8859-1\"\n",
        "  soup = BeautifulSoup(url_response, \"html.parser\")\n",
        "\n",
        "  table = soup.find(\"div\", {\"class\": \"things clearfix\"})\n",
        "  rows = table.find_all(\"div\", {\"class\": \"thing text-text\"})\n",
        "\n",
        "  for row in rows:\n",
        "    col_1 = row.find(\"div\", {\"class\": \"col_a col text\"})\n",
        "    col_1 = col_1.find(\"div\", {\"class\": \"text\"}).text\n",
        "\n",
        "    col_2 = row.find(\"div\", {\"class\": \"col_b col text\"})\n",
        "    col_2 = col_2.find(\"div\", {\"class\": \"text\"}).text\n",
        "\n",
        "    data.append([col_1, col_2, pair[1]])"
      ],
      "metadata": {
        "id": "jmV9ku9_wFKv"
      },
      "execution_count": 78,
      "outputs": []
    },
    {
      "cell_type": "code",
      "source": [
        "import pandas as pd\n",
        "\n",
        "df = pd.DataFrame(data)\n",
        "df.to_csv(\"t.csv\")"
      ],
      "metadata": {
        "id": "mKngi3E2wPBo"
      },
      "execution_count": 81,
      "outputs": []
    }
  ]
}