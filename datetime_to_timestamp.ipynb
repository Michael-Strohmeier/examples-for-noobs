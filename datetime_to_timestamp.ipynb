{
  "nbformat": 4,
  "nbformat_minor": 0,
  "metadata": {
    "colab": {
      "name": "datetime_to_timestamp.ipynb",
      "provenance": []
    },
    "kernelspec": {
      "name": "python3",
      "display_name": "Python 3"
    },
    "language_info": {
      "name": "python"
    }
  },
  "cells": [
    {
      "cell_type": "markdown",
      "metadata": {
        "id": "L-IDUxrw0tac"
      },
      "source": [
        "# NOTE\n",
        "\n",
        "**This code does not factor in daylight saving time.**"
      ]
    },
    {
      "cell_type": "code",
      "metadata": {
        "colab": {
          "base_uri": "https://localhost:8080/"
        },
        "id": "01lbZKwRw6pO",
        "outputId": "455e9d25-ae3c-481f-9e73-132082c82571"
      },
      "source": [
        "!pip install pytz"
      ],
      "execution_count": 1,
      "outputs": [
        {
          "output_type": "stream",
          "text": [
            "Requirement already satisfied: pytz in /usr/local/lib/python3.7/dist-packages (2018.9)\n"
          ],
          "name": "stdout"
        }
      ]
    },
    {
      "cell_type": "code",
      "metadata": {
        "id": "TPEKlrTjxIiH"
      },
      "source": [
        "from datetime import datetime, timezone\n",
        "import pytz"
      ],
      "execution_count": 24,
      "outputs": []
    },
    {
      "cell_type": "code",
      "metadata": {
        "colab": {
          "base_uri": "https://localhost:8080/"
        },
        "id": "E3XoFOWaxiYM",
        "outputId": "d8e0f531-6c7b-4524-8604-362e389be82b"
      },
      "source": [
        "\"\"\"\n",
        "common timezones can be found with print(pytz.common_timezones)\n",
        "other ways to search this was quick and easy. \n",
        "\n",
        "The list is small and you don't search often... Choose your battles.\n",
        "\"\"\"\n",
        "\n",
        "for common_timezone in pytz.common_timezones:\n",
        "  if \"Eastern\" in common_timezone:\n",
        "    print(common_timezone)"
      ],
      "execution_count": 6,
      "outputs": [
        {
          "output_type": "stream",
          "text": [
            "Canada/Eastern\n",
            "US/Eastern\n"
          ],
          "name": "stdout"
        }
      ]
    },
    {
      "cell_type": "code",
      "metadata": {
        "colab": {
          "base_uri": "https://localhost:8080/"
        },
        "id": "G0zi6bLmxO2z",
        "outputId": "5de1e1c1-8254-4b02-e7bf-956256435c96"
      },
      "source": [
        "year = 2020\n",
        "month = 8\n",
        "day = 17\n",
        "hour = 9\n",
        "minute = 23\n",
        "second = 40\n",
        "millisecond = 0\n",
        "time_zone = pytz.timezone(\"US/Eastern\")\n",
        "\n",
        "d = datetime(year, month, day, hour, minute, second, millisecond, time_zone)\n",
        "d"
      ],
      "execution_count": 54,
      "outputs": [
        {
          "output_type": "execute_result",
          "data": {
            "text/plain": [
              "datetime.datetime(2020, 8, 17, 9, 23, 40, tzinfo=<DstTzInfo 'US/Eastern' LMT-1 day, 19:04:00 STD>)"
            ]
          },
          "metadata": {
            "tags": []
          },
          "execution_count": 54
        }
      ]
    },
    {
      "cell_type": "code",
      "metadata": {
        "colab": {
          "base_uri": "https://localhost:8080/"
        },
        "id": "ARBppq0-ybMG",
        "outputId": "a51e958a-ec4c-43b0-b88f-41d73354c8e1"
      },
      "source": [
        "\"\"\"\n",
        "time for in EST so change it to UTC\n",
        "\n",
        "if you have data in some other timezone specify above and change both to UTC\n",
        "\"\"\"\n",
        "\n",
        "utc_time = d.astimezone(pytz.timezone(\"UTC\"))\n",
        "utc_time"
      ],
      "execution_count": 55,
      "outputs": [
        {
          "output_type": "execute_result",
          "data": {
            "text/plain": [
              "datetime.datetime(2020, 8, 17, 14, 19, 40, tzinfo=<UTC>)"
            ]
          },
          "metadata": {
            "tags": []
          },
          "execution_count": 55
        }
      ]
    },
    {
      "cell_type": "code",
      "metadata": {
        "colab": {
          "base_uri": "https://localhost:8080/"
        },
        "id": "1yyJ7u95y5K2",
        "outputId": "95fcb63d-46ea-48ad-8a2c-affb0a0c067e"
      },
      "source": [
        "\"\"\"\n",
        "and as a numeric value...\n",
        "just don't forget to adjust for daylight saving time\n",
        "\n",
        "I don't know what day this library starts counting unix time from.\n",
        "If that matters at all, check the docs.\n",
        "\"\"\"\n",
        "\n",
        "utc_time.timestamp()"
      ],
      "execution_count": 56,
      "outputs": [
        {
          "output_type": "execute_result",
          "data": {
            "text/plain": [
              "1597673980.0"
            ]
          },
          "metadata": {
            "tags": []
          },
          "execution_count": 56
        }
      ]
    }
  ]
}