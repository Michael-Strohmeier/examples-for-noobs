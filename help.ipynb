{
  "nbformat": 4,
  "nbformat_minor": 0,
  "metadata": {
    "colab": {
      "name": "help.ipynb",
      "provenance": []
    },
    "kernelspec": {
      "name": "python3",
      "display_name": "Python 3"
    },
    "language_info": {
      "name": "python"
    }
  },
  "cells": [
    {
      "cell_type": "code",
      "metadata": {
        "id": "6UviwVolLXlL"
      },
      "source": [
        "import pandas as pd\n",
        "import numpy as np\n",
        "import math\n",
        "import matplotlib.pyplot as plt"
      ],
      "execution_count": 36,
      "outputs": []
    },
    {
      "cell_type": "code",
      "metadata": {
        "id": "sI5OwaRcLYo1"
      },
      "source": [
        "data_url = \"https://raw.githubusercontent.com/scriptin/kanji-frequency/master/data/news.json\"\n",
        "\n",
        "df = pd.read_json(data_url)[1:]\n",
        "df.columns = [\"kanji\", \"count\", \"perc\"]\n",
        "\n",
        "df[\"perc\"] = df[\"perc\"].round(6)\n",
        "\n",
        "def get_data(df: pd.DataFrame, n=2200):\n",
        "  return np.array([i for i in range(len(df[\"count\"]))])[:n], np.array(df[\"count\"])[:n]"
      ],
      "execution_count": 26,
      "outputs": []
    },
    {
      "cell_type": "code",
      "metadata": {
        "colab": {
          "base_uri": "https://localhost:8080/",
          "height": 266
        },
        "id": "Pp7PLmWgLmoE",
        "outputId": "ffeecb2b-d1d0-42f1-9f6f-ffb8d2e62d2a"
      },
      "source": [
        "# the first \"count\" is probably what is messing things up the most\n",
        "\n",
        "df.head(7)"
      ],
      "execution_count": 33,
      "outputs": [
        {
          "output_type": "execute_result",
          "data": {
            "text/html": [
              "<div>\n",
              "<style scoped>\n",
              "    .dataframe tbody tr th:only-of-type {\n",
              "        vertical-align: middle;\n",
              "    }\n",
              "\n",
              "    .dataframe tbody tr th {\n",
              "        vertical-align: top;\n",
              "    }\n",
              "\n",
              "    .dataframe thead th {\n",
              "        text-align: right;\n",
              "    }\n",
              "</style>\n",
              "<table border=\"1\" class=\"dataframe\">\n",
              "  <thead>\n",
              "    <tr style=\"text-align: right;\">\n",
              "      <th></th>\n",
              "      <th>kanji</th>\n",
              "      <th>count</th>\n",
              "      <th>perc</th>\n",
              "    </tr>\n",
              "  </thead>\n",
              "  <tbody>\n",
              "    <tr>\n",
              "      <th>1</th>\n",
              "      <td>日</td>\n",
              "      <td>225707</td>\n",
              "      <td>0.021874</td>\n",
              "    </tr>\n",
              "    <tr>\n",
              "      <th>2</th>\n",
              "      <td>大</td>\n",
              "      <td>108923</td>\n",
              "      <td>0.010556</td>\n",
              "    </tr>\n",
              "    <tr>\n",
              "      <th>3</th>\n",
              "      <td>年</td>\n",
              "      <td>100380</td>\n",
              "      <td>0.009728</td>\n",
              "    </tr>\n",
              "    <tr>\n",
              "      <th>4</th>\n",
              "      <td>人</td>\n",
              "      <td>91211</td>\n",
              "      <td>0.008840</td>\n",
              "    </tr>\n",
              "    <tr>\n",
              "      <th>5</th>\n",
              "      <td>国</td>\n",
              "      <td>89958</td>\n",
              "      <td>0.008718</td>\n",
              "    </tr>\n",
              "    <tr>\n",
              "      <th>6</th>\n",
              "      <td>会</td>\n",
              "      <td>82911</td>\n",
              "      <td>0.008035</td>\n",
              "    </tr>\n",
              "    <tr>\n",
              "      <th>7</th>\n",
              "      <td>中</td>\n",
              "      <td>71219</td>\n",
              "      <td>0.006902</td>\n",
              "    </tr>\n",
              "  </tbody>\n",
              "</table>\n",
              "</div>"
            ],
            "text/plain": [
              "  kanji   count      perc\n",
              "1     日  225707  0.021874\n",
              "2     大  108923  0.010556\n",
              "3     年  100380  0.009728\n",
              "4     人   91211  0.008840\n",
              "5     国   89958  0.008718\n",
              "6     会   82911  0.008035\n",
              "7     中   71219  0.006902"
            ]
          },
          "metadata": {},
          "execution_count": 33
        }
      ]
    },
    {
      "cell_type": "code",
      "metadata": {
        "colab": {
          "base_uri": "https://localhost:8080/",
          "height": 265
        },
        "id": "lWYVWgc0MoGi",
        "outputId": "49b4bfdc-9ecc-423a-ae25-e61701b62196"
      },
      "source": [
        "x, y = get_data(df, n=2200)\n",
        "\n",
        "plt.plot(x, y)\n",
        "plt.show()"
      ],
      "execution_count": 39,
      "outputs": [
        {
          "output_type": "display_data",
          "data": {
            "image/png": "[encoded data removed]",
            "text/plain": [
              "<Figure size 432x288 with 1 Axes>"
            ]
          },
          "metadata": {
            "needs_background": "light"
          }
        }
      ]
    },
    {
      "cell_type": "code",
      "metadata": {
        "colab": {
          "base_uri": "https://localhost:8080/",
          "height": 265
        },
        "id": "yRzBWJJnM6cS",
        "outputId": "c333962e-4512-4877-f773-b2362fba8f23"
      },
      "source": [
        "x, y = get_data(df, n=2200)\n",
        "\n",
        "y = [math.log(i) for i in y]\n",
        "\n",
        "plt.plot(x, y)\n",
        "plt.show()"
      ],
      "execution_count": 40,
      "outputs": [
        {
          "output_type": "display_data",
          "data": {
            "image/png": "[encoded data removed]",
            "text/plain": [
              "<Figure size 432x288 with 1 Axes>"
            ]
          },
          "metadata": {
            "needs_background": "light"
          }
        }
      ]
    },
    {
      "cell_type": "code",
      "metadata": {
        "colab": {
          "base_uri": "https://localhost:8080/",
          "height": 266
        },
        "id": "aXNoybpJNBf8",
        "outputId": "fdc8a991-1eed-4efd-ce28-487b2075b074"
      },
      "source": [
        "x, y = get_data(df, n=2200)\n",
        "\n",
        "y[0] /= 1.8\n",
        "\n",
        "y = [math.log(i) for i in y]\n",
        "\n",
        "plt.plot(x, y)\n",
        "plt.show()"
      ],
      "execution_count": 60,
      "outputs": [
        {
          "output_type": "display_data",
          "data": {
            "image/png": "[encoded data removed]",
            "text/plain": [
              "<Figure size 432x288 with 1 Axes>"
            ]
          },
          "metadata": {
            "needs_background": "light"
          }
        }
      ]
    },
    {
      "cell_type": "code",
      "metadata": {
        "id": "5OoyMPdlN5mi"
      },
      "source": [
        ""
      ],
      "execution_count": null,
      "outputs": []
    }
  ]
}