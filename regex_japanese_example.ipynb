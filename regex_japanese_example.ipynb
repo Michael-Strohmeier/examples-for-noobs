{
  "nbformat": 4,
  "nbformat_minor": 0,
  "metadata": {
    "colab": {
      "name": "regex_japanese_example.ipynb",
      "provenance": []
    },
    "kernelspec": {
      "name": "python3",
      "display_name": "Python 3"
    },
    "language_info": {
      "name": "python"
    }
  },
  "cells": [
    {
      "cell_type": "code",
      "metadata": {
        "id": "Jel86gAVHag4"
      },
      "source": [
        "import pandas as pd\n",
        "import re"
      ],
      "execution_count": 1,
      "outputs": []
    },
    {
      "cell_type": "code",
      "metadata": {
        "id": "Z0bheJxmHb2B"
      },
      "source": [
        "word_df = pd.read_csv(\"https://raw.githubusercontent.com/Michael-Strohmeier/word/main/joyo_kanji_data/joyo_kanji_word_list.csv\")\n",
        "joyo_df = pd.read_csv(\"https://raw.githubusercontent.com/Michael-Strohmeier/word/main/joyo_kanji_data/joyo_kanji_list.csv\")"
      ],
      "execution_count": 3,
      "outputs": []
    },
    {
      "cell_type": "code",
      "metadata": {
        "colab": {
          "base_uri": "https://localhost:8080/",
          "height": 142
        },
        "id": "Om5KU6YwHeeo",
        "outputId": "46713fd3-8b5b-48d3-819e-7cb2096a558f"
      },
      "source": [
        "word_df.head(3)"
      ],
      "execution_count": 5,
      "outputs": [
        {
          "output_type": "execute_result",
          "data": {
            "text/html": [
              "<div>\n",
              "<style scoped>\n",
              "    .dataframe tbody tr th:only-of-type {\n",
              "        vertical-align: middle;\n",
              "    }\n",
              "\n",
              "    .dataframe tbody tr th {\n",
              "        vertical-align: top;\n",
              "    }\n",
              "\n",
              "    .dataframe thead th {\n",
              "        text-align: right;\n",
              "    }\n",
              "</style>\n",
              "<table border=\"1\" class=\"dataframe\">\n",
              "  <thead>\n",
              "    <tr style=\"text-align: right;\">\n",
              "      <th></th>\n",
              "      <th>Word</th>\n",
              "      <th>Reading</th>\n",
              "      <th>Meaning</th>\n",
              "    </tr>\n",
              "  </thead>\n",
              "  <tbody>\n",
              "    <tr>\n",
              "      <th>0</th>\n",
              "      <td>日</td>\n",
              "      <td>ひ</td>\n",
              "      <td>day, days; sun, sunshine, sunlight; case (esp....</td>\n",
              "    </tr>\n",
              "    <tr>\n",
              "      <th>1</th>\n",
              "      <td>同日</td>\n",
              "      <td>どうじつ</td>\n",
              "      <td>the same day</td>\n",
              "    </tr>\n",
              "    <tr>\n",
              "      <th>2</th>\n",
              "      <td>日米</td>\n",
              "      <td>にちべい</td>\n",
              "      <td>Japan-America</td>\n",
              "    </tr>\n",
              "  </tbody>\n",
              "</table>\n",
              "</div>"
            ],
            "text/plain": [
              "  Word Reading                                            Meaning\n",
              "0    日       ひ  day, days; sun, sunshine, sunlight; case (esp....\n",
              "1   同日    どうじつ                                       the same day\n",
              "2   日米    にちべい                                      Japan-America"
            ]
          },
          "metadata": {
            "tags": []
          },
          "execution_count": 5
        }
      ]
    },
    {
      "cell_type": "code",
      "metadata": {
        "colab": {
          "base_uri": "https://localhost:8080/"
        },
        "id": "i1szXn6jHjon",
        "outputId": "c2c48183-150e-4020-8243-881bcbc18a79"
      },
      "source": [
        "word = \"食べ物\"\n",
        "\n",
        "def get_kanji(word: str):\n",
        "  reg = u\"[\\u3400-\\u4DB5\\u4E00-\\u9FCB\\uF900-\\uFA6A\\u2E80-\\u2FD5]\"\n",
        "  word_kanji = re.findall(reg, word, re.U)\n",
        "\n",
        "  return word_kanji\n",
        "\n",
        "get_kanji(word)"
      ],
      "execution_count": 7,
      "outputs": [
        {
          "output_type": "execute_result",
          "data": {
            "text/plain": [
              "['食', '物']"
            ]
          },
          "metadata": {
            "tags": []
          },
          "execution_count": 7
        }
      ]
    },
    {
      "cell_type": "code",
      "metadata": {
        "colab": {
          "base_uri": "https://localhost:8080/",
          "height": 142
        },
        "id": "UFGC8po2Htw_",
        "outputId": "3ab5f66e-c586-4644-e5a7-ca16fe5a24b5"
      },
      "source": [
        "kanji = \"日\"\n",
        "\n",
        "word_df[word_df[\"Word\"].str.contains(kanji)].head(3)"
      ],
      "execution_count": 12,
      "outputs": [
        {
          "output_type": "execute_result",
          "data": {
            "text/html": [
              "<div>\n",
              "<style scoped>\n",
              "    .dataframe tbody tr th:only-of-type {\n",
              "        vertical-align: middle;\n",
              "    }\n",
              "\n",
              "    .dataframe tbody tr th {\n",
              "        vertical-align: top;\n",
              "    }\n",
              "\n",
              "    .dataframe thead th {\n",
              "        text-align: right;\n",
              "    }\n",
              "</style>\n",
              "<table border=\"1\" class=\"dataframe\">\n",
              "  <thead>\n",
              "    <tr style=\"text-align: right;\">\n",
              "      <th></th>\n",
              "      <th>Word</th>\n",
              "      <th>Reading</th>\n",
              "      <th>Meaning</th>\n",
              "    </tr>\n",
              "  </thead>\n",
              "  <tbody>\n",
              "    <tr>\n",
              "      <th>0</th>\n",
              "      <td>日</td>\n",
              "      <td>ひ</td>\n",
              "      <td>day, days; sun, sunshine, sunlight; case (esp....</td>\n",
              "    </tr>\n",
              "    <tr>\n",
              "      <th>1</th>\n",
              "      <td>同日</td>\n",
              "      <td>どうじつ</td>\n",
              "      <td>the same day</td>\n",
              "    </tr>\n",
              "    <tr>\n",
              "      <th>2</th>\n",
              "      <td>日米</td>\n",
              "      <td>にちべい</td>\n",
              "      <td>Japan-America</td>\n",
              "    </tr>\n",
              "  </tbody>\n",
              "</table>\n",
              "</div>"
            ],
            "text/plain": [
              "  Word Reading                                            Meaning\n",
              "0    日       ひ  day, days; sun, sunshine, sunlight; case (esp....\n",
              "1   同日    どうじつ                                       the same day\n",
              "2   日米    にちべい                                      Japan-America"
            ]
          },
          "metadata": {
            "tags": []
          },
          "execution_count": 12
        }
      ]
    }
  ]
}