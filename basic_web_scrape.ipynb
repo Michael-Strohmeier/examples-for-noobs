{
  "nbformat": 4,
  "nbformat_minor": 0,
  "metadata": {
    "colab": {
      "name": "basic_web_scrape.ipynb",
      "provenance": []
    },
    "kernelspec": {
      "name": "python3",
      "display_name": "Python 3"
    },
    "language_info": {
      "name": "python"
    }
  },
  "cells": [
    {
      "cell_type": "markdown",
      "metadata": {
        "id": "1jn8ejN0Q5WP"
      },
      "source": [
        "### README\n",
        "\n",
        "Not interested parsing the data at all. Just wanted to demo bs4 for Chris."
      ]
    },
    {
      "cell_type": "code",
      "metadata": {
        "id": "NHJaP4_cKvOA"
      },
      "source": [
        "import pandas as pd\n",
        "from bs4 import BeautifulSoup\n",
        "import urllib.parse\n",
        "import urllib.request\n",
        "import time"
      ],
      "execution_count": 1,
      "outputs": []
    },
    {
      "cell_type": "code",
      "metadata": {
        "id": "8Xz2UXRhKy8z"
      },
      "source": [
        "headers = {'user-agent': 'Mozilla/5.0 (Windows NT 10.0; Win64; x64) AppleWebKit/537.36 (KHTML, like Gecko) Chrome/78.0.3904.108 Safari/537.36',\n",
        "           'cookie': 'visid_incap_1712983=Dfo+CVLdTCSzMHcIXEgPSb1y7l0AAAAAQUIPAAAAAAAetg/EHDkFJUigbIo4eaK4; incap_ses_532_1712983=dFrgDpkdqkYCF1u+mQxiB71y7l0AAAAAksMc42V5CJx6OdUZdeHflA==; has_js=1; _ga=GA1.2.626207180.1575908117; _gid=GA1.2.512657448.1575908117; __utma=158387685.626207180.1575908117.1575908117.1575908117.1; __utmc=158387685; __utmz=158387685.1575908117.1.1.utmcsr=(direct)^|utmccn=(direct)^|utmcmd=(none); __utmt=1; __utmt_b=1; _aeaid=5e12b9d6-0171-4fde-8ccf-1bba809a1bb2; aeatstartmessage=true; __utmb=158387685.4.10.1575908117',\n",
        "          }"
      ],
      "execution_count": 2,
      "outputs": []
    },
    {
      "cell_type": "code",
      "metadata": {
        "id": "2gA03iG-K5n7"
      },
      "source": [
        "url = \"https://en.wikipedia.org/wiki/2020_Summer_Olympics_medal_table\"\n",
        "\n",
        "url_request = urllib.request.Request(url, data=None, headers=headers)\n",
        "url_response = urllib.request.urlopen(url_request)\n",
        "soup = BeautifulSoup(url_response, \"html.parser\", from_encoding=\"iso-8859-1\")"
      ],
      "execution_count": 3,
      "outputs": []
    },
    {
      "cell_type": "code",
      "metadata": {
        "id": "l5iJHwptLIcP"
      },
      "source": [
        "class_name = \"https://en.wikipedia.org/wiki/Stephen_Curry\"\n",
        "medal_table_raw = soup.find(\"table\", {\"class\": class_name})"
      ],
      "execution_count": 5,
      "outputs": []
    },
    {
      "cell_type": "code",
      "metadata": {
        "colab": {
          "base_uri": "https://localhost:8080/"
        },
        "id": "3dKsv8RYLJPG",
        "outputId": "7e96dbf1-e7f0-48ff-ea3b-a1001b626fee"
      },
      "source": [
        "temp = []\n",
        "for row in medal_table_raw.find_all(\"tr\")[1:]:\n",
        "  country = row.find(\"a\")\n",
        "  medals = row.find_all(\"td\")[1:]\n",
        "  medals = [medal.text for medal in medals]\n",
        "\n",
        "  try:\n",
        "    country = country.text\n",
        "\n",
        "    t = [country]\n",
        "    t.extend(medals)\n",
        "\n",
        "    if len(t) != 5:\n",
        "      print(country)\n",
        "      continue\n",
        "\n",
        "    temp.append(t)\n",
        "  except:\n",
        "    print(country)"
      ],
      "execution_count": 51,
      "outputs": [
        {
          "output_type": "stream",
          "text": [
            "Uganda\n",
            "Israel\n",
            "Kosovo\n",
            "Venezuela\n",
            "Slovakia\n",
            "Portugal\n",
            "Fiji\n",
            "Latvia\n",
            "Thailand\n",
            "Morocco\n",
            "Puerto Rico\n",
            "San Marino\n",
            "Malaysia\n",
            "Nigeria\n",
            "Lithuania\n",
            "Namibia\n",
            "North Macedonia\n",
            "Saudi Arabia\n",
            "Turkmenistan\n",
            "Burkina Faso\n",
            "Ghana\n",
            "Grenada\n",
            "Ivory Coast\n",
            "Kuwait\n",
            "Moldova\n",
            "Syria\n",
            "None\n"
          ],
          "name": "stdout"
        }
      ]
    },
    {
      "cell_type": "code",
      "metadata": {
        "colab": {
          "base_uri": "https://localhost:8080/",
          "height": 419
        },
        "id": "YEA9YJ17LhP3",
        "outputId": "65c15175-62a5-4426-ad09-f3051e5e4d2d"
      },
      "source": [
        "df = pd.DataFrame(temp, columns=[\"country\", \"gold\", \"silver\", \"bronze\", \"total\"])\n",
        "df"
      ],
      "execution_count": 55,
      "outputs": [
        {
          "output_type": "execute_result",
          "data": {
            "text/html": [
              "<div>\n",
              "<style scoped>\n",
              "    .dataframe tbody tr th:only-of-type {\n",
              "        vertical-align: middle;\n",
              "    }\n",
              "\n",
              "    .dataframe tbody tr th {\n",
              "        vertical-align: top;\n",
              "    }\n",
              "\n",
              "    .dataframe thead th {\n",
              "        text-align: right;\n",
              "    }\n",
              "</style>\n",
              "<table border=\"1\" class=\"dataframe\">\n",
              "  <thead>\n",
              "    <tr style=\"text-align: right;\">\n",
              "      <th></th>\n",
              "      <th>country</th>\n",
              "      <th>gold</th>\n",
              "      <th>silver</th>\n",
              "      <th>bronze</th>\n",
              "      <th>total</th>\n",
              "    </tr>\n",
              "  </thead>\n",
              "  <tbody>\n",
              "    <tr>\n",
              "      <th>0</th>\n",
              "      <td>United States</td>\n",
              "      <td>39</td>\n",
              "      <td>41</td>\n",
              "      <td>33</td>\n",
              "      <td>113</td>\n",
              "    </tr>\n",
              "    <tr>\n",
              "      <th>1</th>\n",
              "      <td>China</td>\n",
              "      <td>38</td>\n",
              "      <td>32</td>\n",
              "      <td>18</td>\n",
              "      <td>88</td>\n",
              "    </tr>\n",
              "    <tr>\n",
              "      <th>2</th>\n",
              "      <td>Japan</td>\n",
              "      <td>27</td>\n",
              "      <td>14</td>\n",
              "      <td>17</td>\n",
              "      <td>58</td>\n",
              "    </tr>\n",
              "    <tr>\n",
              "      <th>3</th>\n",
              "      <td>Great Britain</td>\n",
              "      <td>22</td>\n",
              "      <td>21</td>\n",
              "      <td>22</td>\n",
              "      <td>65</td>\n",
              "    </tr>\n",
              "    <tr>\n",
              "      <th>4</th>\n",
              "      <td>ROC</td>\n",
              "      <td>20</td>\n",
              "      <td>28</td>\n",
              "      <td>23</td>\n",
              "      <td>71</td>\n",
              "    </tr>\n",
              "    <tr>\n",
              "      <th>...</th>\n",
              "      <td>...</td>\n",
              "      <td>...</td>\n",
              "      <td>...</td>\n",
              "      <td>...</td>\n",
              "      <td>...</td>\n",
              "    </tr>\n",
              "    <tr>\n",
              "      <th>62</th>\n",
              "      <td>Bahrain</td>\n",
              "      <td>0</td>\n",
              "      <td>1</td>\n",
              "      <td>0</td>\n",
              "      <td>1</td>\n",
              "    </tr>\n",
              "    <tr>\n",
              "      <th>63</th>\n",
              "      <td>Kazakhstan</td>\n",
              "      <td>0</td>\n",
              "      <td>0</td>\n",
              "      <td>8</td>\n",
              "      <td>8</td>\n",
              "    </tr>\n",
              "    <tr>\n",
              "      <th>64</th>\n",
              "      <td>Mexico</td>\n",
              "      <td>0</td>\n",
              "      <td>0</td>\n",
              "      <td>4</td>\n",
              "      <td>4</td>\n",
              "    </tr>\n",
              "    <tr>\n",
              "      <th>65</th>\n",
              "      <td>Finland</td>\n",
              "      <td>0</td>\n",
              "      <td>0</td>\n",
              "      <td>2</td>\n",
              "      <td>2</td>\n",
              "    </tr>\n",
              "    <tr>\n",
              "      <th>66</th>\n",
              "      <td>Botswana</td>\n",
              "      <td>0</td>\n",
              "      <td>0</td>\n",
              "      <td>1</td>\n",
              "      <td>1</td>\n",
              "    </tr>\n",
              "  </tbody>\n",
              "</table>\n",
              "<p>67 rows × 5 columns</p>\n",
              "</div>"
            ],
            "text/plain": [
              "          country gold silver bronze total\n",
              "0   United States   39     41     33   113\n",
              "1           China   38     32     18    88\n",
              "2           Japan   27     14     17    58\n",
              "3   Great Britain   22     21     22    65\n",
              "4             ROC   20     28     23    71\n",
              "..            ...  ...    ...    ...   ...\n",
              "62        Bahrain    0      1      0     1\n",
              "63     Kazakhstan    0      0      8     8\n",
              "64         Mexico    0      0      4     4\n",
              "65        Finland    0      0      2     2\n",
              "66       Botswana    0      0      1     1\n",
              "\n",
              "[67 rows x 5 columns]"
            ]
          },
          "metadata": {
            "tags": []
          },
          "execution_count": 55
        }
      ]
    },
    {
      "cell_type": "code",
      "metadata": {
        "id": "Yk_1cHj8OTIM"
      },
      "source": [
        ""
      ],
      "execution_count": null,
      "outputs": []
    }
  ]
}